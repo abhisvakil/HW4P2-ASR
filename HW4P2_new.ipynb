{
 "cells": [
  {
   "cell_type": "markdown",
   "metadata": {},
   "source": [
    "# WANDB : https://wandb.ai/avakil-carnegie-mellon-university/HW4P2?nw=nwuseravakil"
   ]
  },
  {
   "cell_type": "markdown",
   "metadata": {
    "id": "ksTZ5pAtXWXh"
   },
   "source": [
    "# Setup\n",
    "-  Follow the setup instructions based on your preferred environment!"
   ]
  },
  {
   "cell_type": "markdown",
   "metadata": {
    "id": "QdhQJTlgXWXk"
   },
   "source": [
    "## Local"
   ]
  },
  {
   "cell_type": "markdown",
   "metadata": {
    "id": "CvlykMP_XWXl"
   },
   "source": [
    "One of our key goals in designing this assignment is to allow you to complete most of the preliminary implementation work locally.  \n",
    "We highly recommend that you **pass all tests locally** using the provided `hw4_data_subset` before moving to a GPU runtime.  \n",
    "To do this, simply:\n",
    "\n",
    "### Create a new conda environment\n",
    "```bash\n",
    "# Be sure to deactivate any active environments first\n",
    "conda create -n hw4 python=3.12.4\n",
    "```\n",
    "\n",
    "### Activate the conda environment\n",
    "```bash\n",
    "conda activate hw4\n",
    "```\n",
    "\n",
    "### Install the dependencies using the provided `requirements.txt`\n",
    "```bash\n",
    "pip install --no-cache-dir --ignore-installed -r requirements.txt\n",
    "```\n",
    "\n",
    "### Ensure that your notebook is in the same working directory as the `Handout`\n",
    "This can be achieved by:\n",
    "1. Physically moving the notebook into the handout directory.\n",
    "2. Changing the notebook’s current working directory to the handout directory using the os.chdir() function.\n",
    "\n",
    "### Open the notebook and select the newly created environment from the kernel selector.\n",
    "\n",
    "If everything was done correctly, You should see atleast the following files in your current working directory after running `!ls`:\n",
    "```\n",
    ".\n",
    "├── README.md\n",
    "├── requirements.txt\n",
    "├── hw4lib/\n",
    "├── mytorch/\n",
    "├── tests/\n",
    "└── hw4_data_subset/\n",
    "```"
   ]
  },
  {
   "cell_type": "markdown",
   "metadata": {
    "id": "T1K8ZJzQXWXm"
   },
   "source": [
    "## Colab"
   ]
  },
  {
   "cell_type": "markdown",
   "metadata": {
    "id": "3zBCpeYGXWXm"
   },
   "source": [
    "### Step 1: Get your handout\n",
    "- See writeup for recommended approaches."
   ]
  },
  {
   "cell_type": "markdown",
   "metadata": {
    "id": "MczkQoLuXWXo"
   },
   "source": [
    "### Step 2: Install Dependencies\n",
    "- `NOTE`: Your runtime will be restarted to ensure all dependencies are updated.\n",
    "- `NOTE`: You will see a runtime crashed message, this was intentionally done. Simply move on to the next cell."
   ]
  },
  {
   "cell_type": "markdown",
   "metadata": {
    "id": "0Dww5UXpXWXp"
   },
   "source": [
    "### Step 3: Obtain Data\n",
    "\n",
    "- `NOTE`: This process will automatically download and unzip data for both `HW4P1` and `HW4P2`.  \n"
   ]
  },
  {
   "cell_type": "markdown",
   "metadata": {
    "id": "RV797kwAXWXp"
   },
   "source": [
    "### Step 4: Move to Handout Directory\n",
    "You must be within the handout directory for the library imports to work!\n",
    "\n",
    "- `NOTE`: You may have to repeat running this command anytime you restart your runtime.\n",
    "- `NOTE`: You can do a `pwd` to check if you are in the right directory.\n",
    "- `NOTE`: The way it is setup currently, Your data directory should be one level up from your project directory. Keep this in mind when you are setting your `root` in the config file.\n",
    "\n",
    "If everything was done correctly, You should see atleast the following files in your current working directory after running `!ls`:\n",
    "```\n",
    ".\n",
    "├── README.md\n",
    "├── requirements.txt\n",
    "├── hw4lib/\n",
    "├── mytorch/\n",
    "├── tests/\n",
    "└── hw4_data_subset/\n",
    "\n",
    "```"
   ]
  },
  {
   "cell_type": "markdown",
   "metadata": {
    "id": "dqzcpqG0XWXp"
   },
   "source": [
    "## Kaggle"
   ]
  },
  {
   "cell_type": "markdown",
   "metadata": {
    "id": "HEg4SBYUXWXq"
   },
   "source": [
    "While it is possible to run the notebook on Kaggle, we would recommend against it. This assignment is more resource intensive and may run slower on Kaggle."
   ]
  },
  {
   "cell_type": "markdown",
   "metadata": {
    "id": "NMX5lqH9XWXq"
   },
   "source": [
    "### Step 1: Get your handout\n",
    "- See writeup for recommended approaches."
   ]
  },
  {
   "cell_type": "markdown",
   "metadata": {
    "id": "x2nQNvB9XWXr"
   },
   "source": [
    "### Step 2: Install Dependencies\n",
    "- Simply set the `Environment` setting in the notebook to `Always use latest environment`. No need to install anything."
   ]
  },
  {
   "cell_type": "markdown",
   "metadata": {
    "id": "vIu_QszEXWXr"
   },
   "source": [
    "### Step 3: Obtain Data\n",
    "\n",
    "#### ⚠️ Important: Kaggle Users  \n",
    "If you are using Kaggle, **do not manually download the data!** The dataset is large and may exceed your available disk space. Instead, follow these steps to add the dataset directly to your notebook:\n",
    "\n",
    "1. Open your **Kaggle Notebook**.  \n",
    "2. Navigate to **Notebook → Input**.  \n",
    "3. Click **Add Input**.  \n",
    "4. In the search bar, paste the following URL:  \n",
    "   👉 [https://www.kaggle.com/datasets/cmu11785/s25-hw4-data](https://www.kaggle.com/datasets/cmu11785/s25-hw4-data)  \n",
    "5. Click the **➕ (plus sign)** to add the dataset to your notebook.  \n",
    "\n",
    "#### 📌 Note:  \n",
    "This process will automatically download and unzip data for both `HW4P1` and `HW4P2`.  \n"
   ]
  },
  {
   "cell_type": "markdown",
   "metadata": {
    "id": "eylVaaxrXWXr"
   },
   "source": [
    "### Step 4: Move to Handout Directory\n",
    "You must be within the handout directory for the library imports to work!\n",
    "\n",
    "- `NOTE`: You may have to repeat running this command anytime you restart your runtime.\n",
    "- `NOTE`: You can do a `pwd` to check if you are in the right directory.\n",
    "- `NOTE`: The way it is setup currently, Your data directory should be one level up from your project directory. Keep this in mind when you are setting your `root` in the config file.\n",
    "\n",
    "If everything was done correctly, You should see atleast the following files in your current working directory after running `!ls`:\n",
    "```\n",
    ".\n",
    "├── README.md\n",
    "├── requirements.txt\n",
    "├── hw4lib/\n",
    "├── mytorch/\n",
    "├── tests/\n",
    "└── hw4_data_subset/\n",
    "\n",
    "```"
   ]
  },
  {
   "cell_type": "markdown",
   "metadata": {
    "id": "uP0Aucc7XWXs"
   },
   "source": [
    "## PSC"
   ]
  },
  {
   "cell_type": "markdown",
   "metadata": {
    "id": "yJm_aSHvXWXs"
   },
   "source": [
    "### Step 1: Get your handout\n",
    "- See writeup for recommended approaches.\n",
    "- If you use Remote - SSH to connect to Bridges2, you can upload the handout to your project directory and work from there.\n"
   ]
  },
  {
   "cell_type": "code",
   "execution_count": null,
   "metadata": {
    "id": "simQXvJoXWXs"
   },
   "outputs": [],
   "source": [
    "# Example: My preferred approach\n",
    "import os\n",
    "# Settings -> Developer Settings -> Personal Access Tokens -> Token (classic)\n",
    "os.environ['GITHUB_TOKEN'] = \"\"\n",
    "\n",
    "GITHUB_USERNAME = \"\"\n",
    "REPO_NAME       = \"IDL-HW4\"\n",
    "TOKEN = os.environ.get(\"GITHUB_TOKEN\")\n",
    "repo_url        = f\"https://{TOKEN}@github.com/{GITHUB_USERNAME}/{REPO_NAME}.git\"\n",
    "!git clone {repo_url}"
   ]
  },
  {
   "cell_type": "code",
   "execution_count": null,
   "metadata": {
    "id": "8Ibi0yUFXWXs"
   },
   "outputs": [],
   "source": [
    "# To pull latest changes (Must be in the repo dir, use pwd/ls to verify)\n",
    "!cd {REPO_NAME} && git pull"
   ]
  },
  {
   "cell_type": "markdown",
   "metadata": {
    "id": "VXhjLh83XWXt"
   },
   "source": [
    "### Step 2: Setting Up Your Environment on Bridges2\n",
    "\n",
    "For this homework, we are providing a shared Conda environment for the entire class. Follow these steps to set up the environment and start a Jupyter notebook on Bridges2:"
   ]
  },
  {
   "cell_type": "markdown",
   "metadata": {
    "id": "vG_taa71XWXt"
   },
   "source": [
    "#### 1. SSH into Bridges2\n",
    "```bash\n",
    "ssh username@bridges2.psc.edu\n",
    "```"
   ]
  },
  {
   "cell_type": "markdown",
   "metadata": {
    "id": "4hpcW2C5XWXt"
   },
   "source": [
    "#### 2. Navigate to your Project Directory\n",
    "```bash\n",
    "cd $PROJECT\n",
    "```"
   ]
  },
  {
   "cell_type": "markdown",
   "metadata": {
    "id": "j-YNBIVWXWXt"
   },
   "source": [
    "#### 3. Load the Anaconda Module\n",
    "```bash\n",
    "module load anaconda3\n",
    "```"
   ]
  },
  {
   "cell_type": "markdown",
   "metadata": {
    "id": "J-7_f2PGXWXt"
   },
   "source": [
    "#### 4. Activate the provided HW4 Environment\n",
    "```bash\n",
    "conda deactivate # First, deactivate any existing Conda environment\n",
    "conda activate /jet/home/psamal/hw_envs/idl_hw4\n",
    "```"
   ]
  },
  {
   "cell_type": "markdown",
   "metadata": {
    "id": "Ag3zHpx2XWXu"
   },
   "source": [
    "#### 5. Request a Compute Node\n",
    "```bash\n",
    "interact -p GPU-shared --gres=gpu:v100-32:1 -t 8:00:00\n",
    "```"
   ]
  },
  {
   "cell_type": "markdown",
   "metadata": {
    "id": "annERewlXWXu"
   },
   "source": [
    "#### 6. Re-activate Environment\n",
    "If your Conda environment was deactivated due to node allocation:\n",
    "```bash\n",
    "conda deactivate # First, deactivate any existing Conda environment\n",
    "conda activate /jet/home/psamal/hw_envs/idl_hw4\n",
    "```"
   ]
  },
  {
   "cell_type": "markdown",
   "metadata": {
    "id": "UPp6QNFGXWXu"
   },
   "source": [
    "#### 7. Start Jupyter Notebook\n",
    "Launch Jupyter Notebook:\n",
    "```bash\n",
    "jupyter notebook --no-browser --ip=0.0.0.0\n",
    "```"
   ]
  },
  {
   "cell_type": "markdown",
   "metadata": {
    "id": "V9QqEXMkXWXv"
   },
   "source": [
    "\n",
    "#### 8. Connect to Jupyter Server\n",
    "\n",
    "You can now use your prefered way of connecting to the Jupyter Server. Your options should be covered in the docs linked in post 558 @ piazza.\n",
    "\n",
    "The following is my preferred way of connecting to the Jupyter Server:\n",
    "\n",
    "##### 8.1 Connect in VSCode\n",
    "I prefer uploading the notebook to PSC Bridges2 storage ($PROJECT directory) and then connecting to the Jupyter Server from there.\n",
    "1. Use Remote - SSH to connect to Bridges2 and navigate to your project directory.\n",
    "2. Upload the notebook to the project directory.\n",
    "3. Open the notebook in VSCode.\n",
    "4. Go to **Kernel** → **Select Another Kernel** → **Existing Jupyter Server**\n",
    "5. Enter the URL of the Jupyter Server:```http://{hostname}:{port}/tree?token={token}```\n",
    "   - eg: `http://v011.ib.bridges2.psc.edu:8888/tree?token=e4b302434e68990f28bc2b4ae8d216eb87eecb7090526249`\n",
    "\n",
    "> **Note**: Replace `{hostname}`, `{port}` and `{token}` with your actual values from the Jupyter output."
   ]
  },
  {
   "cell_type": "markdown",
   "metadata": {
    "id": "yTzqOnqVXWXw"
   },
   "source": [
    "### Step 3: Get Data\n",
    "- `NOTE`: This will download and unzip data for both `HW4P1` and `HW4P2`\n",
    "- `NOTE`: We are using `$LOCAL`: the scratch storage on local disk on the node running a job to store out data.\n",
    "  - Disk accesses are much faster than what you would get from `$PROJECT` storage\n",
    "  - `IT IS NOT PERSISTENT`\n",
    "- `NOTE`: Make sure you have completed the previous steps before running this cell.\n",
    "- Read more about it PSC File Spaces [here](https://www.psc.edu/resources/bridges-2/user-guide#file-spaces)."
   ]
  },
  {
   "cell_type": "code",
   "execution_count": null,
   "metadata": {
    "id": "Rx2lB7TKXWXw"
   },
   "outputs": [],
   "source": [
    "!curl -L -o $LOCAL/s25-hw4-data.zip https://www.kaggle.com/api/v1/datasets/download/cmu11785/s25-hw4-data\n",
    "!unzip -q -o $LOCAL/s25-hw4-data.zip -d $LOCAL/hw4_data\n",
    "!rm -rf $LOCAL/s25-hw4-data.zip\\\n",
    "!du -h --max-depth=2 $LOCAL/hw4_data"
   ]
  },
  {
   "cell_type": "markdown",
   "metadata": {
    "id": "FbFIgoFyXWXw"
   },
   "source": [
    "### Step 4: Move to Handout Directory\n",
    "Depending on the way you are running your notebook, you may or may not need to run this cell. As long as you are within the handout directory for the library imports to work!\n",
    "\n",
    "- `NOTE`: You may have to repeat running this command anytime you restart your runtime.\n",
    "- `NOTE`: You can do a `pwd` to check if you are in the right directory.\n",
    "- `NOTE`: The way it is setup currently, Your data directory should be one level up from your project directory. Keep this in mind when you are setting your `root` in the config file.\n",
    "\n",
    "If everything was done correctly, You should see atleast the following files in your current working directory after running `!ls`:\n",
    "```\n",
    ".\n",
    "├── README.md\n",
    "├── requirements.txt\n",
    "├── hw4lib/\n",
    "├── mytorch/\n",
    "├── tests/\n",
    "└── hw4_data_subset/\n",
    "\n",
    "```"
   ]
  },
  {
   "cell_type": "markdown",
   "metadata": {
    "id": "gv-iljarXWXw"
   },
   "source": [
    "# Imports\n",
    "- If your setup was done correctly, you should be able to run the following cell without any issues."
   ]
  },
  {
   "cell_type": "code",
   "execution_count": 46,
   "metadata": {
    "id": "41s27pCAXWXx"
   },
   "outputs": [
    {
     "name": "stdout",
     "output_type": "stream",
     "text": [
      "Using device: cuda\n"
     ]
    }
   ],
   "source": [
    "from hw4lib.data import (\n",
    "    H4Tokenizer,\n",
    "    ASRDataset,\n",
    "    verify_dataloader\n",
    ")\n",
    "from hw4lib.model import (\n",
    "    DecoderOnlyTransformer,\n",
    "    EncoderDecoderTransformer\n",
    ")\n",
    "from hw4lib.utils import (\n",
    "    create_scheduler,\n",
    "    create_optimizer,\n",
    "    plot_lr_schedule\n",
    ")\n",
    "from hw4lib.trainers import (\n",
    "    ASRTrainer,\n",
    "    ProgressiveTrainer\n",
    ")\n",
    "from torch.utils.data import DataLoader\n",
    "import yaml\n",
    "import gc\n",
    "import torch\n",
    "from torchinfo import summary\n",
    "import os\n",
    "import json\n",
    "import wandb\n",
    "import pandas as pd\n",
    "device = \"cuda\" if torch.cuda.is_available() else \"cpu\"\n",
    "print(f\"Using device: {device}\")"
   ]
  },
  {
   "cell_type": "markdown",
   "metadata": {
    "id": "k5ey-Nd0XWXx"
   },
   "source": [
    "# Implementations\n",
    "- `NOTE`: All of these implementations have detailed specification, implementation details, and hints in their respective source files. Make sure to read all of them in their entirety to understand the implementation details!"
   ]
  },
  {
   "cell_type": "markdown",
   "metadata": {
    "id": "yvQA7UchXWXx"
   },
   "source": [
    "## Dataset Implementation\n",
    "- Implement the `ASRDataset` class in `hw4lib/data/asr_dataset.py`.\n",
    "- You will have to implement parts of `__init__` and completely implement the `__len__`, `__getitem__` and `collate_fn` methods.\n",
    "- Run the cell below to check your implementation.\n"
   ]
  },
  {
   "cell_type": "code",
   "execution_count": 51,
   "metadata": {
    "id": "BPZNGGJ9XWXx"
   },
   "outputs": [
    {
     "name": "stdout",
     "output_type": "stream",
     "text": [
      "Loading data for train-clean-100 partition...\n",
      "100%|███████████████████████████████████████████| 28/28 [00:00<00:00, 69.34it/s]\n",
      "Loading data for test-clean partition...\n",
      "100%|████████████████████████████████████████████| 2/2 [00:00<00:00, 121.61it/s]\n",
      "\n",
      "\u001b[95m================================================================================\n",
      "Running tests for category: ASRDataset Train\n",
      "--------------------------------------------------------------------------------\u001b[0m\n",
      "\n",
      "\u001b[94m[01/01]    Running:  Test a Train instance of ASRDataset class\u001b[0m\n",
      "Testing __init__ method ...\n",
      "Test Passed: Dataset length matches FBANK files.\n",
      "Test Passed: Dataset length matches TRANSCRIPT files.\n",
      "Test Passed: Order alignment between FBANK files and TRANSCRIPT files is correct.\n",
      "Test Passed: Alignment between features and transcripts is correct.\n",
      "Test Passed: All features have the correct number of dimensions (num_feats).\n",
      "Test Passed: All transcripts are decoded correctly after removing SOS and EOS tokens.\n",
      "Testing __getitem__ method ...\n",
      "Test Passed: All samples have correct feature dimensions and transcript alignment.\n",
      "Testing collate_fn method ...\n",
      "Test Passed: Feature batch has correct dimensions (3D tensor).\n",
      "Test Passed: All sequences are padded to the same length.\n",
      "Test Passed: All transcripts are padded to the same length.\n",
      "Test Passed: Padding values are correct.\n",
      "\u001b[92m[01/01]    PASSED:   Test a Train instance of ASRDataset class\u001b[0m\n",
      "\n",
      "\n",
      "\u001b[95m================================================================================\n",
      "Running tests for category: ASRDataset Test\n",
      "--------------------------------------------------------------------------------\u001b[0m\n",
      "\n",
      "\u001b[94m[01/01]    Running:  Test a Test instance of ASRDataset class\u001b[0m\n",
      "Testing __init__ method ...\n",
      "Test Passed: Dataset length matches FBANK files.\n",
      "Test Passed: All features have the correct number of dimensions (num_feats).\n",
      "Testing __getitem__ method ...\n",
      "Test Passed: Transcripts are None for 'test-clean' at index 0.\n",
      "Test Passed: Transcripts are None for 'test-clean' at index 1.\n",
      "Test Passed: All samples have correct feature dimensions and transcript alignment.\n",
      "Testing collate_fn method ...\n",
      "Test Passed: Feature batch has correct dimensions (3D tensor).\n",
      "Test Passed: All sequences are padded to the same length.\n",
      "Test Passed: Transcripts and lengths are correctly set to None for 'test-clean'.\n",
      "\u001b[92m[01/01]    PASSED:   Test a Test instance of ASRDataset class\u001b[0m\n",
      "\n",
      "\n",
      "\u001b[95m================================================================================\n",
      "                                  Test Summary                                  \n",
      "================================================================================\u001b[0m\n",
      "\u001b[93mCategory:    ASRDataset Train              \n",
      "Results:     1/1 tests passed (100.0%)\u001b[0m\n",
      "\u001b[93mCategory:    ASRDataset Test               \n",
      "Results:     1/1 tests passed (100.0%)\u001b[0m\n"
     ]
    }
   ],
   "source": [
    "!python -m tests.test_dataset_asr"
   ]
  },
  {
   "cell_type": "markdown",
   "metadata": {
    "id": "dTKyK49VXWXx"
   },
   "source": [
    "## Model Implementations\n",
    "\n",
    "Overview:\n",
    "\n",
    "- Implement the `CrossAttentionLayer` class in `hw4lib/model/sublayers.py`.\n",
    "- Implement the `CrossAttentionDecoderLayer` class in `hw4lib/model/decoder_layers.py`.\n",
    "- Implement the `SelfAttentionEncoderLayer` class in `hw4lib/model/encoder_layers.py`. This will be mostly a copy-paste of the `SelfAttentionDecoderLayer` class in `hw4lib/model/decoder_layers.py` with one minor diffrence: it can attend to all positions in the input sequence.\n",
    "- Implement the `EncoderDecoderTransformer` class in `hw4lib/model/transformers.py`."
   ]
  },
  {
   "cell_type": "markdown",
   "metadata": {
    "id": "POb3Agw6XWXy"
   },
   "source": [
    "### Transformer Sublayers\n",
    "- Now, Implement the `CrossAttentionLayer` class in `hw4lib/model/sublayers.py`.\n",
    "- `NOTE`: You should have already implemented the `SelfAttentionLayer`, and `FeedForwardLayer` classes in `hw4lib/model/sublayers.py`.\n",
    "- Run the cell below to check your implementation."
   ]
  },
  {
   "cell_type": "code",
   "execution_count": 47,
   "metadata": {
    "id": "_vYRTVdGXWXy"
   },
   "outputs": [
    {
     "name": "stdout",
     "output_type": "stream",
     "text": [
      "\n",
      "\u001b[95m================================================================================\n",
      "Running tests for category: CrossAttentionLayer\n",
      "--------------------------------------------------------------------------------\u001b[0m\n",
      "\n",
      "\u001b[94m[01/01]    Running:  Test the cross-attention sublayer\u001b[0m\n",
      "Testing initialization ...\n",
      "Test Passed: All layers exist and are instantiated correctly\n",
      "Testing forward shapes ...\n",
      "Test Passed: Forward pass returns the correct shapes\n",
      "Testing padding mask behaviour ...\n",
      "Test Passed: Padding mask is applied correctly\n",
      "Testing cross-attention behaviour ...\n",
      "Test Passed: Cross-attention behavior is correct\n",
      "Testing residual connection ...\n",
      "Test Passed: Residual connection is applied correctly\n",
      "\u001b[92m[01/01]    PASSED:   Test the cross-attention sublayer\u001b[0m\n",
      "\n",
      "\n",
      "\u001b[95m================================================================================\n",
      "                                  Test Summary                                  \n",
      "================================================================================\u001b[0m\n",
      "\u001b[93mCategory:    CrossAttentionLayer           \n",
      "Results:     1/1 tests passed (100.0%)\u001b[0m\n"
     ]
    }
   ],
   "source": [
    "!python -m tests.test_sublayer_crossattention"
   ]
  },
  {
   "cell_type": "markdown",
   "metadata": {
    "id": "FbIAaQ--XWXy"
   },
   "source": [
    "### Transformer Cross-Attention Decoder Layer\n",
    "- Implement the `CrossAttentionDecoderLayer` class in `hw4lib/model/decoder_layers.py`.\n",
    "- Then run the cell below to check your implementation.\n"
   ]
  },
  {
   "cell_type": "code",
   "execution_count": 48,
   "metadata": {
    "id": "s4Ke3vAVXWXy"
   },
   "outputs": [
    {
     "name": "stdout",
     "output_type": "stream",
     "text": [
      "\n",
      "\u001b[95m================================================================================\n",
      "Running tests for category: CrossAttentionDecoderLayer\n",
      "--------------------------------------------------------------------------------\u001b[0m\n",
      "\n",
      "\u001b[94m[01/01]    Running:  Test the cross-attention decoder layer\u001b[0m\n",
      "Testing initialization ...\n",
      "Test Passed: All sublayers exist and are initialized correctly\n",
      "Testing forward shapes ...\n",
      "Test Passed: Forward shapes are as expected\n",
      "Testing sublayer integration ...\n",
      "Test Passed: Sublayers interact correctly\n",
      "Testing cross-attention behavior ...\n",
      "Test Passed: Cross-attention behaves correctly\n",
      "\u001b[92m[01/01]    PASSED:   Test the cross-attention decoder layer\u001b[0m\n",
      "\n",
      "\n",
      "\u001b[95m================================================================================\n",
      "                                  Test Summary                                  \n",
      "================================================================================\u001b[0m\n",
      "\u001b[93mCategory:    CrossAttentionDecoderLayer    \n",
      "Results:     1/1 tests passed (100.0%)\u001b[0m\n"
     ]
    }
   ],
   "source": [
    "!python -m tests.test_decoderlayer_crossattention"
   ]
  },
  {
   "cell_type": "markdown",
   "metadata": {
    "id": "28snypxrXWXy"
   },
   "source": [
    "### Transformer Self-Attention Encoder Layer\n",
    "- Implement the `SelfAttentionEncoderLayer` class in `hw4lib/model/encoder_layers.py`.\n",
    "- Then run the cell below to check your implementation.\n",
    "\n",
    "\n"
   ]
  },
  {
   "cell_type": "code",
   "execution_count": 49,
   "metadata": {
    "id": "h_bRj56mXWXy"
   },
   "outputs": [
    {
     "name": "stdout",
     "output_type": "stream",
     "text": [
      "\n",
      "\u001b[95m================================================================================\n",
      "Running tests for category: SelfAttentionEncoderLayer\n",
      "--------------------------------------------------------------------------------\u001b[0m\n",
      "\n",
      "\u001b[94m[01/01]    Running:  Test the self-attention encoder layer\u001b[0m\n",
      "Testing initialization ...\n",
      "Test Passed: All sublayers exist and are initialized correctly\n",
      "Testing forward shapes ...\n",
      "Test Passed: Forward shapes are as expected\n",
      "Testing sublayer interaction ...\n",
      "Test Passed: Sublayers interact correctly\n",
      "Testing bidirectional attention ...\n",
      "Test Passed: Bidirectional attention is working correctly\n",
      "\u001b[92m[01/01]    PASSED:   Test the self-attention encoder layer\u001b[0m\n",
      "\n",
      "\n",
      "\u001b[95m================================================================================\n",
      "                                  Test Summary                                  \n",
      "================================================================================\u001b[0m\n",
      "\u001b[93mCategory:    SelfAttentionEncoderLayer     \n",
      "Results:     1/1 tests passed (100.0%)\u001b[0m\n"
     ]
    }
   ],
   "source": [
    "!python -m tests.test_encoderlayer_selfattention"
   ]
  },
  {
   "cell_type": "markdown",
   "metadata": {
    "id": "c1b9Co8HXWXy"
   },
   "source": [
    "### Encoder-Decoder Transformer\n",
    "\n",
    "- Implement the  `EncoderDecoderTransformer` class in `hw4lib/model/transformers.py`.\n",
    "- Then run the cell below to check your implementation."
   ]
  },
  {
   "cell_type": "code",
   "execution_count": 50,
   "metadata": {
    "id": "0ACVZWXrXWXy"
   },
   "outputs": [
    {
     "name": "stdout",
     "output_type": "stream",
     "text": [
      "\n",
      "\u001b[95m================================================================================\n",
      "Running tests for category: EncoderDecoderTransformer\n",
      "--------------------------------------------------------------------------------\u001b[0m\n",
      "\n",
      "\u001b[94m[01/01]    Running:  Test the encoder-decoder transformer\u001b[0m\n",
      "Testing initialization...\n",
      "Test Passed: All components initialized correctly\n",
      "Testing encode method...\n",
      "Test Passed: Encode method works correctly\n",
      "Testing decode method...\n",
      "Test Passed: Decode method works correctly\n",
      "Testing forward pass...\n",
      "Test Passed: Forward pass works correctly\n",
      "Testing encoder-decoder integration...\n",
      "Test Passed: Encoder-decoder integration works correctly\n",
      "Testing CTC integration...\n",
      "Test Passed: CTC integration works correctly\n",
      "Testing forward propagation order...\n",
      "Test Passed: Forward propagation order is correct\n",
      "\u001b[92m[01/01]    PASSED:   Test the encoder-decoder transformer\u001b[0m\n",
      "\n",
      "\n",
      "\u001b[95m================================================================================\n",
      "                                  Test Summary                                  \n",
      "================================================================================\u001b[0m\n",
      "\u001b[93mCategory:    EncoderDecoderTransformer     \n",
      "Results:     1/1 tests passed (100.0%)\u001b[0m\n"
     ]
    }
   ],
   "source": [
    "!python -m tests.test_transformer_encoder_decoder"
   ]
  },
  {
   "cell_type": "markdown",
   "metadata": {
    "id": "fxMaLdHdXWXy"
   },
   "source": [
    "## Decoding Implementation\n",
    "- We highly recommend you to implement the `generate_beam` method of the `SequenceGenerator` class in `hw4lib/decoding/sequence_generator.py`.\n",
    "- Then run the cell below to check your implementation.\n",
    "- `NOTE`: This is an optional but highly recommended task for `HW4P2` to ease the journey to high cutoffs!"
   ]
  },
  {
   "cell_type": "code",
   "execution_count": 2,
   "metadata": {
    "id": "HnAQO_VHXWXy"
   },
   "outputs": [
    {
     "name": "stdout",
     "output_type": "stream",
     "text": [
      "\n",
      "\u001b[95m================================================================================\n",
      "Running tests for category: Decoding\n",
      "--------------------------------------------------------------------------------\u001b[0m\n",
      "\n",
      "\u001b[94m[01/01]    Running:  Test beam decoding\u001b[0m\n",
      "Testing Single Batch Beam Search ...\n",
      "Beam 0  : generated: HELLO WORLD  | expected: HELLO WORLD \n",
      "Beam 1  : generated: YELLOW WORLD | expected: YELLOW WORLD\n",
      "Beam 2  : generated: MELLOW WORLD | expected: MELLOW WORLD\n",
      "Testing Multi Batch Beam Search ...\n",
      "Batch 0  : Beam 0  : generated: HELLO WORLD  | expected: HELLO WORLD \n",
      "Batch 0  : Beam 1  : generated: YELLOW WORLD | expected: YELLOW WORLD\n",
      "Batch 0  : Beam 2  : generated: MELLOW WORLD | expected: MELLOW WORLD\n",
      "Batch 1  : Beam 0  : generated: GOOD BYE     | expected: GOOD BYE    \n",
      "Batch 1  : Beam 1  : generated: GREAT DAY    | expected: GREAT DAY   \n",
      "Batch 1  : Beam 2  : generated: GUD NIGHT    | expected: GUD NIGHT   \n",
      "\u001b[92m[01/01]    PASSED:   Test beam decoding\u001b[0m\n",
      "\n",
      "\n",
      "\u001b[95m================================================================================\n",
      "                                  Test Summary                                  \n",
      "================================================================================\u001b[0m\n",
      "\u001b[93mCategory:    Decoding                      \n",
      "Results:     1/1 tests passed (100.0%)\u001b[0m\n"
     ]
    }
   ],
   "source": [
    "!python -m tests.test_decoding --mode beam"
   ]
  },
  {
   "cell_type": "markdown",
   "metadata": {
    "id": "Ze6Ufzt2XWXy"
   },
   "source": [
    "## Trainer Implementation\n",
    "You will have to do some minor in-filling for the `ASRTrainer` class in `hw4lib/trainers/asr_trainer.py` before you can use it.\n",
    "- Fill in the `TODO`s in the `__init__`.\n",
    "- Fill in the `TODO`s in the `_train_epoch`.\n",
    "- Fill in the `TODO`s in the `recognize` method.\n",
    "- Fill in the `TODO`s in the `_validate_epoch`.\n",
    "- Fill in the `TODO`s in the `train` method.\n",
    "- Fill in the `TODO`s in the `evaluate` method.\n",
    "\n",
    "`WARNING`: There are no test's for this. Implement carefully!"
   ]
  },
  {
   "cell_type": "markdown",
   "metadata": {
    "id": "d8CtOMbVXWXz"
   },
   "source": [
    "# Experiments\n",
    "From this point onwards you may want to switch to a `GPU` runtime.\n",
    "- `OBJECTIVE`: Optimize your model for `CER` on the test set."
   ]
  },
  {
   "cell_type": "markdown",
   "metadata": {
    "id": "h-P4qGdjXWXz"
   },
   "source": [
    "## Config\n",
    "- You can use the `config.yaml` file to set your config for your ablation study.\n",
    "\n",
    "---\n",
    "### Notes:\n",
    "\n",
    "- Set `tokenization: token_type:` to specify your desired tokenization strategy\n",
    "- You will need to set the root path to your `hw4p1_data` folder in `data: root:`. This will depend on your setup. For eg. if you are following out setup instruction:\n",
    "  - `PSC`: `\"/local/hw4_data/hw4p1_data\"`\n",
    "  - `Colab:`: `\"/content/hw4_data/hw4p1_data\"`\n",
    "  - `Kaggle:`: `\"/kaggle/input/s25-hw4-data/hw4p1_data\"`\n",
    "- There's extra configurations in the `optimizer` section which will only be relevant if you decide to use the `create_optimizer` function we've provided in `hw4lib/utils/create_optimizer.py`.\n",
    "- `BE CAREFUL` while setting numeric values. Eg. `1e-4` will get serialized to a `str` while `1.0e-4` gets serialized to float."
   ]
  },
  {
   "cell_type": "code",
   "execution_count": 23,
   "metadata": {
    "id": "pkFcCs6VXWXz"
   },
   "outputs": [
    {
     "name": "stdout",
     "output_type": "stream",
     "text": [
      "Overwriting config.yaml\n"
     ]
    }
   ],
   "source": [
    "%%writefile config.yaml\n",
    "\n",
    "Name                      : \"Final_Config\"\n",
    "\n",
    "###### Tokenization ------------------------------------------------------------\n",
    "tokenization:\n",
    "  token_type                : \"5k\"       # [char, 1k, 5k, 10k]\n",
    "  token_map :\n",
    "      'char': 'hw4lib/data/tokenizer_jsons/tokenizer_char.json'\n",
    "      '1k'  : 'hw4lib/data/tokenizer_jsons/tokenizer_1000.json'\n",
    "      '5k'  : 'hw4lib/data/tokenizer_jsons/tokenizer_5000.json'\n",
    "      '10k' : 'hw4lib/data/tokenizer_jsons/tokenizer_10000.json'\n",
    "\n",
    "###### Dataset -----------------------------------------------------------------\n",
    "data:\n",
    "  root                 : \"hw4p2_data\"  # TODO: Set the root path of your data\n",
    "  train_partition      : \"train-clean-100\"  # paired text-speech for ASR pre-training\n",
    "  val_partition        : \"dev-clean\"        # paired text-speech for ASR pre-training\n",
    "  test_partition       : \"test-clean\"       # paired text-speech for ASR pre-training\n",
    "  subset               : 1.0                # Load a subset of the data (for debugging, testing, etc\n",
    "  batch_size           : 16           #\n",
    "  NUM_WORKERS          : 2            # Set to 0 for CPU\n",
    "  norm                 : 'global_mvn' # ['global_mvn', 'cepstral', 'none']\n",
    "  num_feats            : 80\n",
    "\n",
    "  ###### SpecAugment ---------------------------------------------------------------\n",
    "  specaug                   : True  # Set to True if you want to use SpecAugment\n",
    "  specaug_conf:\n",
    "    apply_freq_mask         : True\n",
    "    freq_mask_width_range   : 10\n",
    "    num_freq_mask           : 3\n",
    "    apply_time_mask         : True\n",
    "    time_mask_width_range   : 60\n",
    "    num_time_mask           : 3\n",
    "\n",
    "###### Network Specs -------------------------------------------------------------\n",
    "model: # Encoder-Decoder Transformer (HW4P2)\n",
    "  # Speech embedding parameters\n",
    "  input_dim: 80              # Speech feature dimension\n",
    "  time_reduction: 2          # Time dimension downsampling factor\n",
    "  reduction_method: 'conv'   # The source_embedding reduction method ['lstm', 'conv', 'both']\n",
    "\n",
    "  # Architecture parameters\n",
    "  d_model: 276           # Model dimension\n",
    "  num_encoder_layers: 6  # Number of encoder layers\n",
    "  num_decoder_layers: 6  # Number of decoder layers\n",
    "  num_encoder_heads: 12  # Number of encoder attention heads\n",
    "  num_decoder_heads: 12   # Number of decoder attention heads\n",
    "  d_ff_encoder: 2048     # Feed-forward dimension for encoder\n",
    "  d_ff_decoder: 2048     # Feed-forward dimension for decoder\n",
    "  skip_encoder_pe: False # Whether to skip positional encoding for encoder\n",
    "  skip_decoder_pe: False # Whether to skip positional encoding for decoder\n",
    "\n",
    "  # Common parameters\n",
    "  dropout: 0.0          # Dropout rate\n",
    "  layer_drop_rate: 0.0  # Layer dropout rate\n",
    "  weight_tying: False   # Whether to use weight tying\n",
    "\n",
    "###### Common Training Parameters ------------------------------------------------\n",
    "training:\n",
    "  use_wandb                   : True   # Toggle wandb logging\n",
    "  wandb_run_id                : \"Final\" # \"none\" or \"run_id\"\n",
    "  resume                      : \"none\"   # Resume an existing run (run_id != 'none')\n",
    "  gradient_accumulation_steps : 1\n",
    "  wandb_project               : \"HW4P2\" # wandb project to log to\n",
    "  init_timeout                : 300\n",
    "\n",
    "###### Loss ----------------------------------------------------------------------\n",
    "loss: # Just good ol' CrossEntropy\n",
    "  label_smoothing: 0.1\n",
    "  ctc_weight: 0.3\n",
    "\n",
    "###### Optimizer -----------------------------------------------------------------\n",
    "optimizer:\n",
    "  name: \"adamw\" # Options: sgd, adam, adamw\n",
    "  lr: 0.0004    # Base learning rate\n",
    "\n",
    "  # Common parameters\n",
    "  weight_decay: 0.000001\n",
    "\n",
    "  # Parameter groups\n",
    "  # You can add more param groups as you want and set their learning rates and patterns\n",
    "  param_groups:\n",
    "    - name: self_attn\n",
    "      patterns: []  # Will match all parameters containing \"ffn\" and set their learning rate to 0.0002\n",
    "      lr: 0.0002    # LR for self_attn\n",
    "      layer_decay:\n",
    "        enabled: False\n",
    "        decay_rate: 0.8\n",
    "\n",
    "    - name: ffn\n",
    "      patterns: [] # Will match all parameters containing \"ffn\" and set their learning rate to 0.0002\n",
    "      lr: 0.0002   # LR for ffn\n",
    "      layer_decay:\n",
    "        enabled: False\n",
    "        decay_rate: 0.8\n",
    "\n",
    "  # Layer-wise learning rates\n",
    "  layer_decay:\n",
    "    enabled: False\n",
    "    decay_rate: 0.75\n",
    "\n",
    "  # SGD specific parameters\n",
    "  sgd:\n",
    "    momentum: 0.9\n",
    "    nesterov: True\n",
    "    dampening: 0\n",
    "\n",
    "  # Adam specific parameters\n",
    "  adam:\n",
    "    betas: [0.9, 0.999]\n",
    "    eps: 1.0e-8\n",
    "    amsgrad: False\n",
    "\n",
    "  # AdamW specific parameters\n",
    "  adamw:\n",
    "    betas: [0.9, 0.999]\n",
    "    eps: 1.0e-8\n",
    "    amsgrad: False\n",
    "\n",
    "###### Scheduler -----------------------------------------------------------------\n",
    "scheduler:\n",
    "  name: \"cosine_warm\"  # Options: reduce_lr, cosine, cosine_warm\n",
    "\n",
    "  # ReduceLROnPlateau specific parameters\n",
    "  reduce_lr:\n",
    "    mode: \"min\"  # Options: min, max\n",
    "    factor: 0.1  # Factor to reduce learning rate by\n",
    "    patience: 10  # Number of epochs with no improvement after which LR will be reduced\n",
    "    threshold: 0.0001  # Threshold for measuring the new optimum\n",
    "    threshold_mode: \"rel\"  # Options: rel, abs\n",
    "    cooldown: 0  # Number of epochs to wait before resuming normal operation\n",
    "    min_lr: 0.0000001  # Minimum learning rate\n",
    "    eps: 1e-8  # Minimal decay applied to lr\n",
    "\n",
    "  # CosineAnnealingLR specific parameters\n",
    "  cosine:\n",
    "    T_max: 20  # Maximum number of iterations\n",
    "    eta_min: 0.00000001  # Minimum learning rate\n",
    "    last_epoch: -1\n",
    "\n",
    "  # CosineAnnealingWarmRestarts specific parameters\n",
    "  cosine_warm:\n",
    "    T_0: 5    # Number of iterations for the first restart\n",
    "    T_mult: 15 # Factor increasing T_i after each restart\n",
    "    eta_min: 0.0000001  # Minimum learning rate\n",
    "    last_epoch: -1\n",
    "\n",
    "  # Warmup parameters (can be used with any scheduler)\n",
    "  warmup:\n",
    "    enabled: True\n",
    "    type: \"exponential\"  # Options: linear, exponential\n",
    "    epochs: 5\n",
    "    start_factor: 0.1\n",
    "    end_factor: 1.0\n"
   ]
  },
  {
   "cell_type": "code",
   "execution_count": 24,
   "metadata": {
    "id": "ycLt56sWXWXz"
   },
   "outputs": [],
   "source": [
    "with open('config.yaml', 'r') as file:\n",
    "    config = yaml.safe_load(file)"
   ]
  },
  {
   "cell_type": "markdown",
   "metadata": {
    "id": "Lq8X3BcuXWXz"
   },
   "source": [
    "## Tokenizer"
   ]
  },
  {
   "cell_type": "code",
   "execution_count": 25,
   "metadata": {
    "id": "gstAD2BGXWXz"
   },
   "outputs": [
    {
     "name": "stdout",
     "output_type": "stream",
     "text": [
      "================================================================================\n",
      "                          Tokenizer Configuration (5k)                          \n",
      "--------------------------------------------------------------------------------\n",
      "Vocabulary size:     5000\n",
      "\n",
      "Special Tokens:\n",
      "PAD:              0\n",
      "UNK:              1\n",
      "MASK:             2\n",
      "SOS:              3\n",
      "EOS:              4\n",
      "BLANK:            5\n",
      "\n",
      "Validation Example:\n",
      "--------------------------------------------------------------------------------\n",
      "Input text:  [SOS]HI DEEP LEARNERS[EOS]\n",
      "Tokens:      ['[SOS]', 'H', 'I', 'ĠDEEP', 'ĠLEARN', 'ERS', '[EOS]']\n",
      "Token IDs:   [3, 14, 15, 1169, 2545, 214, 4]\n",
      "Decoded:     [SOS]HI DEEP LEARNERS[EOS]\n",
      "================================================================================\n"
     ]
    }
   ],
   "source": [
    "Tokenizer = H4Tokenizer(\n",
    "    token_map  = config['tokenization']['token_map'],\n",
    "    token_type = config['tokenization']['token_type']\n",
    ")"
   ]
  },
  {
   "cell_type": "markdown",
   "metadata": {
    "id": "5hCLVwnaXWXz"
   },
   "source": [
    "## Datasets"
   ]
  },
  {
   "cell_type": "code",
   "execution_count": 5,
   "metadata": {
    "id": "DwmZydebXWXz"
   },
   "outputs": [
    {
     "name": "stdout",
     "output_type": "stream",
     "text": [
      "Loading data for train-clean-100 partition...\n"
     ]
    },
    {
     "name": "stderr",
     "output_type": "stream",
     "text": [
      "100%|██████████| 28539/28539 [04:34<00:00, 103.89it/s]\n"
     ]
    },
    {
     "name": "stdout",
     "output_type": "stream",
     "text": [
      "Global stats computed from training set.\n",
      "Loading data for dev-clean partition...\n"
     ]
    },
    {
     "name": "stderr",
     "output_type": "stream",
     "text": [
      "100%|██████████| 2703/2703 [00:25<00:00, 104.71it/s]\n"
     ]
    },
    {
     "name": "stdout",
     "output_type": "stream",
     "text": [
      "Loading data for test-clean partition...\n"
     ]
    },
    {
     "name": "stderr",
     "output_type": "stream",
     "text": [
      "100%|██████████| 2620/2620 [00:13<00:00, 195.10it/s]\n"
     ]
    },
    {
     "data": {
      "text/plain": [
       "1602"
      ]
     },
     "execution_count": 5,
     "metadata": {},
     "output_type": "execute_result"
    }
   ],
   "source": [
    "train_dataset = ASRDataset(\n",
    "    partition=config['data']['train_partition'],\n",
    "    config=config['data'],\n",
    "    tokenizer=Tokenizer,\n",
    "    isTrainPartition=True,\n",
    "    global_stats=None  # Will compute stats from training data\n",
    ")\n",
    "\n",
    "# TODO: Get the computed global stats from training set\n",
    "global_stats = None\n",
    "if config['data']['norm'] == 'global_mvn':\n",
    "    global_stats = (train_dataset.global_mean, train_dataset.global_std)\n",
    "    print(f\"Global stats computed from training set.\")\n",
    "\n",
    "val_dataset = ASRDataset(\n",
    "    partition=config['data']['val_partition'],\n",
    "    config=config['data'],\n",
    "    tokenizer=Tokenizer,\n",
    "    isTrainPartition=False,\n",
    "    global_stats=global_stats\n",
    ")\n",
    "\n",
    "test_dataset = ASRDataset(\n",
    "    partition=config['data']['test_partition'],\n",
    "    config=config['data'],\n",
    "    tokenizer=Tokenizer,\n",
    "    isTrainPartition=False,\n",
    "    global_stats=global_stats\n",
    ")\n",
    "\n",
    "gc.collect()"
   ]
  },
  {
   "cell_type": "markdown",
   "metadata": {
    "id": "eAFMrdMLXWXz"
   },
   "source": [
    "## Dataloaders"
   ]
  },
  {
   "cell_type": "code",
   "execution_count": 26,
   "metadata": {
    "id": "SGRynmFPXWXz"
   },
   "outputs": [
    {
     "data": {
      "text/plain": [
       "195"
      ]
     },
     "execution_count": 26,
     "metadata": {},
     "output_type": "execute_result"
    }
   ],
   "source": [
    "train_loader    = DataLoader(\n",
    "    dataset     = train_dataset,\n",
    "    batch_size  = config['data']['batch_size'],\n",
    "    shuffle     = True,\n",
    "    num_workers = config['data']['NUM_WORKERS'] if device == 'cuda' else 0,\n",
    "    pin_memory  = True,\n",
    "    collate_fn  = train_dataset.collate_fn\n",
    ")\n",
    "\n",
    "val_loader      = DataLoader(\n",
    "    dataset     = val_dataset,\n",
    "    batch_size  = config['data']['batch_size'],\n",
    "    shuffle     = False,\n",
    "    num_workers = config['data']['NUM_WORKERS'] if device == 'cuda' else 0,\n",
    "    pin_memory  = True,\n",
    "    collate_fn  = val_dataset.collate_fn\n",
    ")\n",
    "\n",
    "test_loader     = DataLoader(\n",
    "    dataset     = test_dataset,\n",
    "    batch_size  = config['data']['batch_size'],\n",
    "    shuffle     = False,\n",
    "    num_workers = config['data']['NUM_WORKERS'] if device == 'cuda' else 0,\n",
    "    pin_memory  = True,\n",
    "    collate_fn  = test_dataset.collate_fn\n",
    ")\n",
    "\n",
    "gc.collect()"
   ]
  },
  {
   "cell_type": "markdown",
   "metadata": {
    "id": "6YILqrSuXWX0"
   },
   "source": [
    "### Dataloader Verification"
   ]
  },
  {
   "cell_type": "code",
   "execution_count": 27,
   "metadata": {
    "id": "awodg0EWXWX0"
   },
   "outputs": [
    {
     "name": "stdout",
     "output_type": "stream",
     "text": [
      "==================================================\n",
      "             Dataloader Verification              \n",
      "==================================================\n",
      "Dataloader Partition     : train-clean-100\n",
      "--------------------------------------------------\n",
      "Number of Batches        : 1784\n",
      "Batch Size               : 16\n",
      "--------------------------------------------------\n",
      "Checking shapes of the data...                    \n",
      "\n",
      "here!\n",
      "here!\n",
      "Feature Shape            : [16, 2042, 80]\n",
      "Shifted Transcript Shape : [16, 70]\n",
      "Golden Transcript Shape  : [16, 70]\n",
      "Feature Lengths Shape    : [16]\n",
      "Transcript Lengths Shape : [16]\n",
      "here!\n",
      "--------------------------------------------------\n",
      "Max Feature Length       : 3066\n",
      "Max Transcript Length    : 100\n",
      "Avg. Chars per Token     : 4.24\n",
      "==================================================\n"
     ]
    }
   ],
   "source": [
    "verify_dataloader(train_loader)"
   ]
  },
  {
   "cell_type": "code",
   "execution_count": 28,
   "metadata": {
    "id": "rPNijuHBXWX0"
   },
   "outputs": [
    {
     "name": "stdout",
     "output_type": "stream",
     "text": [
      "==================================================\n",
      "             Dataloader Verification              \n",
      "==================================================\n",
      "Dataloader Partition     : dev-clean\n",
      "--------------------------------------------------\n",
      "Number of Batches        : 169\n",
      "Batch Size               : 16\n",
      "--------------------------------------------------\n",
      "Checking shapes of the data...                    \n",
      "\n",
      "here!\n",
      "here!\n",
      "Feature Shape            : [16, 3676, 80]\n",
      "Shifted Transcript Shape : [16, 104]\n",
      "Golden Transcript Shape  : [16, 104]\n",
      "Feature Lengths Shape    : [16]\n",
      "Transcript Lengths Shape : [16]\n",
      "here!\n",
      "--------------------------------------------------\n",
      "Max Feature Length       : 4081\n",
      "Max Transcript Length    : 138\n",
      "Avg. Chars per Token     : 4.17\n",
      "==================================================\n"
     ]
    }
   ],
   "source": [
    "verify_dataloader(val_loader)"
   ]
  },
  {
   "cell_type": "code",
   "execution_count": 29,
   "metadata": {
    "id": "NYjQOBj2XWX0"
   },
   "outputs": [
    {
     "name": "stdout",
     "output_type": "stream",
     "text": [
      "==================================================\n",
      "             Dataloader Verification              \n",
      "==================================================\n",
      "Dataloader Partition     : test-clean\n",
      "--------------------------------------------------\n",
      "Number of Batches        : 164\n",
      "Batch Size               : 16\n",
      "--------------------------------------------------\n",
      "Checking shapes of the data...                    \n",
      "\n",
      "here!\n",
      "here!\n",
      "Feature Shape            : [16, 1556, 80]\n",
      "Feature Lengths Shape    : [16]\n",
      "here!\n",
      "--------------------------------------------------\n",
      "Max Feature Length       : 4370\n",
      "Max Transcript Length    : 0\n",
      "Avg. Chars per Token     : 0.00\n",
      "==================================================\n"
     ]
    }
   ],
   "source": [
    "verify_dataloader(test_loader)"
   ]
  },
  {
   "cell_type": "markdown",
   "metadata": {
    "id": "F8_T2fH3XWX0"
   },
   "source": [
    "## Calculate Max Lengths\n",
    "Calculating the maximum transcript length across your dataset is a crucial step when working with certain transformer models.\n",
    "-  We'll use sinusoidal positional encodings that must be precomputed up to a fixed maximum length.\n",
    "- This maximum length is a hyperparameter that determines:\n",
    "  - How long of a sequence your model can process\n",
    "  - The size of your positional encoding matrix\n",
    "  - Memory requirements during training and inference\n",
    "- `Requirements`: For this assignment, ensure your positional encodings can accommodate at least the longest sequence in your dataset to prevent truncation. However, you can set this value higher if you anticipate using your languagemodel to work with longer sequences in future tasks (hint: this might be useful for P2! 😉).\n",
    "- `NOTE`: We'll be using the same positional encoding matrix for all sequences in your dataset. Take this into account when setting your maximum length."
   ]
  },
  {
   "cell_type": "code",
   "execution_count": 30,
   "metadata": {
    "id": "guY_wgFjXWX0"
   },
   "outputs": [
    {
     "name": "stdout",
     "output_type": "stream",
     "text": [
      "==================================================\n",
      "Max Feature Length             : 4370\n",
      "Max Transcript Length          : 138\n",
      "Overall Max Length             : 4370\n",
      "==================================================\n"
     ]
    }
   ],
   "source": [
    "max_feat_len       = max(train_dataset.feat_max_len, val_dataset.feat_max_len, test_dataset.feat_max_len)\n",
    "max_transcript_len = max(train_dataset.text_max_len, val_dataset.text_max_len, test_dataset.text_max_len)\n",
    "max_len            = max(max_feat_len, max_transcript_len)\n",
    "\n",
    "print(\"=\"*50)\n",
    "print(f\"{'Max Feature Length':<30} : {max_feat_len}\")\n",
    "print(f\"{'Max Transcript Length':<30} : {max_transcript_len}\")\n",
    "print(f\"{'Overall Max Length':<30} : {max_len}\")\n",
    "print(\"=\"*50)"
   ]
  },
  {
   "cell_type": "markdown",
   "metadata": {
    "id": "zmryM_AHXWX0"
   },
   "source": [
    "## Wandb"
   ]
  },
  {
   "cell_type": "code",
   "execution_count": 31,
   "metadata": {
    "id": "5fEQ0Ns_XWX0"
   },
   "outputs": [
    {
     "name": "stderr",
     "output_type": "stream",
     "text": [
      "\u001b[34m\u001b[1mwandb\u001b[0m: \u001b[33mWARNING\u001b[0m If you're specifying your api key in code, ensure this code is not shared publicly.\n",
      "\u001b[34m\u001b[1mwandb\u001b[0m: \u001b[33mWARNING\u001b[0m Consider setting the WANDB_API_KEY environment variable, or running `wandb login` from the command line.\n",
      "\u001b[34m\u001b[1mwandb\u001b[0m: Appending key for api.wandb.ai to your netrc file: /home/user/.netrc\n"
     ]
    },
    {
     "data": {
      "text/plain": [
       "True"
      ]
     },
     "execution_count": 31,
     "metadata": {},
     "output_type": "execute_result"
    }
   ],
   "source": [
    "wandb.login(key=\"d7966486ec220d537bc9cb77bc50b148f731edb4\")"
   ]
  },
  {
   "cell_type": "markdown",
   "metadata": {
    "id": "ZXcjkHQ_XWX0"
   },
   "source": [
    "## Training\n",
    "Every time you run the trainer, it will create a new directory in the `expts` folder with the following structure:\n",
    "```\n",
    "expts/\n",
    "    └── {run_name}/\n",
    "        ├── config.yaml\n",
    "        ├── model_arch.txt\n",
    "        ├── checkpoints/\n",
    "        │   ├── checkpoint-best-metric-model.pth\n",
    "        │   └── checkpoint-last-epoch-model.pth\n",
    "        ├── attn/\n",
    "        │   └── {attention visualizations}\n",
    "        └── text/\n",
    "            └── {generated text outputs}\n",
    "```\n"
   ]
  },
  {
   "cell_type": "markdown",
   "metadata": {
    "id": "DS7fwKk5XWX0"
   },
   "source": [
    "### Training Strategy 1: Cold-Start Trainer"
   ]
  },
  {
   "cell_type": "markdown",
   "metadata": {
    "id": "B-y9NyN4XWX0"
   },
   "source": [
    "#### Model Load (Default)"
   ]
  },
  {
   "cell_type": "code",
   "execution_count": 32,
   "metadata": {
    "id": "CTSjyngVXWX0"
   },
   "outputs": [
    {
     "name": "stdout",
     "output_type": "stream",
     "text": [
      "===============================================================================================\n",
      "Layer (type:depth-idx)                        Output Shape              Param #\n",
      "===============================================================================================\n",
      "EncoderDecoderTransformer                     [16, 66, 5000]            --\n",
      "├─SpeechEmbedding: 1-1                        [16, 994, 276]            --\n",
      "│    └─Conv2DSubsampling: 2-1                 [16, 994, 276]            --\n",
      "│    │    └─Sequential: 3-1                   [16, 276, 994, 76]        688,620\n",
      "│    │    └─Linear: 3-2                       [16, 994, 276]            5,789,652\n",
      "│    │    └─Dropout: 3-3                      [16, 994, 276]            --\n",
      "├─PositionalEncoding: 1-2                     [16, 994, 276]            --\n",
      "├─Dropout: 1-3                                [16, 994, 276]            --\n",
      "├─ModuleList: 1-4                             --                        --\n",
      "│    └─SelfAttentionEncoderLayer: 2-2         [16, 994, 276]            --\n",
      "│    │    └─SelfAttentionLayer: 3-4           [16, 994, 276]            306,360\n",
      "│    │    └─FeedForwardLayer: 3-5             [16, 994, 276]            1,133,372\n",
      "│    └─SelfAttentionEncoderLayer: 2-3         [16, 994, 276]            --\n",
      "│    │    └─SelfAttentionLayer: 3-6           [16, 994, 276]            306,360\n",
      "│    │    └─FeedForwardLayer: 3-7             [16, 994, 276]            1,133,372\n",
      "│    └─SelfAttentionEncoderLayer: 2-4         [16, 994, 276]            --\n",
      "│    │    └─SelfAttentionLayer: 3-8           [16, 994, 276]            306,360\n",
      "│    │    └─FeedForwardLayer: 3-9             [16, 994, 276]            1,133,372\n",
      "│    └─SelfAttentionEncoderLayer: 2-5         [16, 994, 276]            --\n",
      "│    │    └─SelfAttentionLayer: 3-10          [16, 994, 276]            306,360\n",
      "│    │    └─FeedForwardLayer: 3-11            [16, 994, 276]            1,133,372\n",
      "│    └─SelfAttentionEncoderLayer: 2-6         [16, 994, 276]            --\n",
      "│    │    └─SelfAttentionLayer: 3-12          [16, 994, 276]            306,360\n",
      "│    │    └─FeedForwardLayer: 3-13            [16, 994, 276]            1,133,372\n",
      "│    └─SelfAttentionEncoderLayer: 2-7         [16, 994, 276]            --\n",
      "│    │    └─SelfAttentionLayer: 3-14          [16, 994, 276]            306,360\n",
      "│    │    └─FeedForwardLayer: 3-15            [16, 994, 276]            1,133,372\n",
      "├─LayerNorm: 1-5                              [16, 994, 276]            552\n",
      "├─Sequential: 1-6                             [16, 994, 5000]           --\n",
      "│    └─Linear: 2-8                            [16, 994, 5000]           1,385,000\n",
      "│    └─LogSoftmax: 2-9                        [16, 994, 5000]           --\n",
      "├─Embedding: 1-7                              [16, 66, 276]             1,380,000\n",
      "├─PositionalEncoding: 1-8                     [16, 66, 276]             --\n",
      "├─Dropout: 1-9                                [16, 66, 276]             --\n",
      "├─ModuleList: 1-10                            --                        --\n",
      "│    └─CrossAttentionDecoderLayer: 2-10       [16, 66, 276]             --\n",
      "│    │    └─SelfAttentionLayer: 3-16          [16, 66, 276]             306,360\n",
      "│    │    └─CrossAttentionLayer: 3-17         [16, 66, 276]             306,360\n",
      "│    │    └─FeedForwardLayer: 3-18            [16, 66, 276]             1,133,372\n",
      "│    └─CrossAttentionDecoderLayer: 2-11       [16, 66, 276]             --\n",
      "│    │    └─SelfAttentionLayer: 3-19          [16, 66, 276]             306,360\n",
      "│    │    └─CrossAttentionLayer: 3-20         [16, 66, 276]             306,360\n",
      "│    │    └─FeedForwardLayer: 3-21            [16, 66, 276]             1,133,372\n",
      "│    └─CrossAttentionDecoderLayer: 2-12       [16, 66, 276]             --\n",
      "│    │    └─SelfAttentionLayer: 3-22          [16, 66, 276]             306,360\n",
      "│    │    └─CrossAttentionLayer: 3-23         [16, 66, 276]             306,360\n",
      "│    │    └─FeedForwardLayer: 3-24            [16, 66, 276]             1,133,372\n",
      "│    └─CrossAttentionDecoderLayer: 2-13       [16, 66, 276]             --\n",
      "│    │    └─SelfAttentionLayer: 3-25          [16, 66, 276]             306,360\n",
      "│    │    └─CrossAttentionLayer: 3-26         [16, 66, 276]             306,360\n",
      "│    │    └─FeedForwardLayer: 3-27            [16, 66, 276]             1,133,372\n",
      "│    └─CrossAttentionDecoderLayer: 2-14       [16, 66, 276]             --\n",
      "│    │    └─SelfAttentionLayer: 3-28          [16, 66, 276]             306,360\n",
      "│    │    └─CrossAttentionLayer: 3-29         [16, 66, 276]             306,360\n",
      "│    │    └─FeedForwardLayer: 3-30            [16, 66, 276]             1,133,372\n",
      "│    └─CrossAttentionDecoderLayer: 2-15       [16, 66, 276]             --\n",
      "│    │    └─SelfAttentionLayer: 3-31          [16, 66, 276]             306,360\n",
      "│    │    └─CrossAttentionLayer: 3-32         [16, 66, 276]             306,360\n",
      "│    │    └─FeedForwardLayer: 3-33            [16, 66, 276]             1,133,372\n",
      "├─LayerNorm: 1-11                             [16, 66, 276]             552\n",
      "├─Linear: 1-12                                [16, 66, 5000]            1,385,000\n",
      "===============================================================================================\n",
      "Total params: 29,744,320\n",
      "Trainable params: 29,744,320\n",
      "Non-trainable params: 0\n",
      "Total mult-adds (G): 832.81\n",
      "===============================================================================================\n",
      "Input size (MB): 10.22\n",
      "Forward/backward pass size (MB): 8521.96\n",
      "Params size (MB): 96.96\n",
      "Estimated Total Size (MB): 8629.14\n",
      "===============================================================================================\n"
     ]
    }
   ],
   "source": [
    "model_config = config['model'].copy()\n",
    "model_config.update({\n",
    "    'max_len': max_len,\n",
    "    'num_classes': Tokenizer.vocab_size\n",
    "})\n",
    "\n",
    "model = EncoderDecoderTransformer(**model_config)\n",
    "\n",
    "# Get some inputs from the train dataloader\n",
    "for batch in train_loader:\n",
    "    padded_feats, padded_shifted, padded_golden, feat_lengths, transcript_lengths = batch\n",
    "    break\n",
    "\n",
    "\n",
    "model_stats = summary(model, input_data=[padded_feats, padded_shifted, feat_lengths, transcript_lengths])\n",
    "print(model_stats)"
   ]
  },
  {
   "cell_type": "markdown",
   "metadata": {
    "id": "FN6wc57eXWX1"
   },
   "source": [
    "#### Initialize Trainer\n",
    "\n",
    "If you need to reload the model from a checkpoint, you can do so by calling the `load_checkpoint` method.\n",
    "\n",
    "```python\n",
    "checkpoint_path = \"expts/avakil_HW4P2/checkpoints/checkpoint-best-metric-model.pth\"\n",
    "trainer.load_checkpoint(checkpoint_path)\n",
    "```\n"
   ]
  },
  {
   "cell_type": "code",
   "execution_count": 44,
   "metadata": {},
   "outputs": [
    {
     "name": "stdout",
     "output_type": "stream",
     "text": [
      "Checkpoint loaded from epoch 44\n",
      "Successfully loaded: model, optimizer, scheduler, scaler, training_state\n"
     ]
    }
   ],
   "source": [
    "checkpoint_path = \"checkpoint-best-metric-model.pth\"\n",
    "trainer.load_checkpoint(checkpoint_path)"
   ]
  },
  {
   "cell_type": "code",
   "execution_count": 45,
   "metadata": {},
   "outputs": [
    {
     "name": "stdout",
     "output_type": "stream",
     "text": [
      "9.529703110456467\n"
     ]
    }
   ],
   "source": [
    "print(trainer.best_metric)"
   ]
  },
  {
   "cell_type": "code",
   "execution_count": 39,
   "metadata": {
    "id": "1eg-NsHzXWX1"
   },
   "outputs": [
    {
     "name": "stdout",
     "output_type": "stream",
     "text": [
      "Using device: cuda\n"
     ]
    }
   ],
   "source": [
    "trainer = ASRTrainer(\n",
    "    model=model,\n",
    "    tokenizer=Tokenizer,\n",
    "    config=config,\n",
    "    run_name=\"avakil_HW4P2_new_24\",\n",
    "    config_file=\"config.yaml\",\n",
    "    device=device\n",
    ")"
   ]
  },
  {
   "cell_type": "markdown",
   "metadata": {
    "id": "qiQSYD7jXWX1"
   },
   "source": [
    "### Setup Optimizer and Scheduler\n",
    "\n",
    "You can set your own optimizer and scheduler by setting the class members in the `LMTrainer` class.\n",
    "Eg:\n",
    "```python\n",
    "trainer.optimizer = optim.AdamW(model.parameters(), lr=config['optimizer']['lr'], weight_decay=config['optimizer']['weight_decay'])\n",
    "trainer.scheduler = optim.lr_scheduler.CosineAnnealingLR(trainer.optimizer, T_max=config['training']['epochs'])\n",
    "```\n",
    "\n",
    "We also provide a utility function to create your own optimizer and scheduler with the congig and some extra bells and whistles. You are free to use it or not. Do read their code and documentation to understand how it works (`hw4lib/utils/*`).\n"
   ]
  },
  {
   "cell_type": "markdown",
   "metadata": {
    "id": "M_IQUFhmXWX1"
   },
   "source": [
    "#### Setting up the optimizer"
   ]
  },
  {
   "cell_type": "code",
   "execution_count": 40,
   "metadata": {
    "id": "F1mMBVjrXWX1"
   },
   "outputs": [
    {
     "name": "stdout",
     "output_type": "stream",
     "text": [
      "\n",
      "🔧 Configuring Optimizer:\n",
      "├── Type: ADAMW\n",
      "├── Base LR: 0.0004\n",
      "├── Weight Decay: 1e-06\n",
      "├── Parameter Groups:\n",
      "│   ├── Group: self_attn\n",
      "│   │   ├── LR: 0.0002\n",
      "│   │   └── Patterns: []\n",
      "│   ├── Group: ffn\n",
      "│   │   ├── LR: 0.0002\n",
      "│   │   └── Patterns: []\n",
      "│   └── Default Group (unmatched parameters)\n",
      "└── AdamW Specific:\n",
      "    ├── Betas: [0.9, 0.999]\n",
      "    ├── Epsilon: 1e-08\n",
      "    └── AMSGrad: False\n"
     ]
    }
   ],
   "source": [
    "trainer.optimizer = create_optimizer(\n",
    "    model=model,\n",
    "    opt_config=config['optimizer']\n",
    ")"
   ]
  },
  {
   "cell_type": "markdown",
   "metadata": {
    "id": "_h4o2qWEXWX1"
   },
   "source": [
    "#### Creating a test scheduler and plotting the learning rate schedule"
   ]
  },
  {
   "cell_type": "code",
   "execution_count": 41,
   "metadata": {
    "id": "ilPlvS6EXWX1"
   },
   "outputs": [
    {
     "name": "stdout",
     "output_type": "stream",
     "text": [
      "\n",
      "📈 Configuring Learning Rate Scheduler:\n",
      "├── Type: COSINE_WARM\n",
      "├── Cosine Annealing Warm Restarts Settings:\n",
      "│   ├── T_0: 5 epochs (8920 steps)\n",
      "│   ├── T_mult: 15\n",
      "│   └── Min LR: 1e-07\n",
      "├── Warmup Settings:\n",
      "│   ├── Duration: 5 epochs (8920 steps)\n",
      "│   ├── Start Factor: 0.1\n",
      "│   └── End Factor: 1.0\n",
      "Warning: Only showing 5 out of 195 parameter groups for clarity\n"
     ]
    },
    {
     "data": {
      "image/png": "[encoded data removed]",
      "text/plain": [
       "<Figure size 1200x400 with 2 Axes>"
      ]
     },
     "metadata": {},
     "output_type": "display_data"
    }
   ],
   "source": [
    "test_scheduler = create_scheduler(\n",
    "    optimizer=trainer.optimizer,\n",
    "    scheduler_config=config['scheduler'],\n",
    "    train_loader=train_loader,\n",
    "    gradient_accumulation_steps=config['training']['gradient_accumulation_steps']\n",
    ")\n",
    "\n",
    "plot_lr_schedule(\n",
    "    scheduler=test_scheduler,\n",
    "    num_epochs=90,\n",
    "    train_loader=train_loader,\n",
    "    gradient_accumulation_steps=config['training']['gradient_accumulation_steps']\n",
    ")"
   ]
  },
  {
   "cell_type": "markdown",
   "metadata": {
    "id": "m1qQK403XWX1"
   },
   "source": [
    "#### Setting up the scheduler"
   ]
  },
  {
   "cell_type": "code",
   "execution_count": 42,
   "metadata": {
    "id": "H3-MTweSXWX2"
   },
   "outputs": [
    {
     "name": "stdout",
     "output_type": "stream",
     "text": [
      "\n",
      "📈 Configuring Learning Rate Scheduler:\n",
      "├── Type: COSINE_WARM\n",
      "├── Cosine Annealing Warm Restarts Settings:\n",
      "│   ├── T_0: 5 epochs (8920 steps)\n",
      "│   ├── T_mult: 15\n",
      "│   └── Min LR: 1e-07\n",
      "├── Warmup Settings:\n",
      "│   ├── Duration: 5 epochs (8920 steps)\n",
      "│   ├── Start Factor: 0.1\n",
      "│   └── End Factor: 1.0\n"
     ]
    }
   ],
   "source": [
    "trainer.scheduler = create_scheduler(\n",
    "    optimizer=trainer.optimizer,\n",
    "    scheduler_config=config['scheduler'],\n",
    "    train_loader=train_loader,\n",
    "    gradient_accumulation_steps=config['training']['gradient_accumulation_steps']\n",
    ")"
   ]
  },
  {
   "cell_type": "markdown",
   "metadata": {
    "id": "9y3ASKqWXWX2"
   },
   "source": [
    "#### Train\n",
    "- Set your epochs"
   ]
  },
  {
   "cell_type": "code",
   "execution_count": null,
   "metadata": {
    "id": "bKCzg3U8XWX2"
   },
   "outputs": [
    {
     "name": "stderr",
     "output_type": "stream",
     "text": [
      "                                                                                                                                                            \r"
     ]
    },
    {
     "name": "stdout",
     "output_type": "stream",
     "text": [
      "\n",
      "📊 Metrics (Epoch 0):\n",
      "├── TRAIN:\n",
      "│   ├── ce_loss: 6.6710\n",
      "│   ├── ctc_loss: 8.1071\n",
      "│   ├── joint_loss: 9.1031\n",
      "│   ├── perplexity_char: 4.8272\n",
      "│   └── perplexity_token: 789.1577\n",
      "└── VAL:\n",
      "    ├── cer: 73.9378\n",
      "    ├── wer: 116.2531\n",
      "    └── word_dist: 78.9197\n",
      "└── TRAINING:\n",
      "    └── learning_rate: 0.000112\n"
     ]
    },
    {
     "name": "stderr",
     "output_type": "stream",
     "text": [
      "\u001b[34m\u001b[1mwandb\u001b[0m: \u001b[33mWARNING\u001b[0m Saving files without folders. If you want to preserve subdirectories pass base_path to wandb.save, i.e. wandb.save(\"/mnt/folder/file.h5\", base_path=\"/mnt\")\n"
     ]
    },
    {
     "name": "stdout",
     "output_type": "stream",
     "text": [
      "Saving best model!\n"
     ]
    },
    {
     "name": "stderr",
     "output_type": "stream",
     "text": [
      "                                                                                                                                                          \r"
     ]
    },
    {
     "name": "stdout",
     "output_type": "stream",
     "text": [
      "\n",
      "📊 Metrics (Epoch 1):\n",
      "├── TRAIN:\n",
      "│   ├── ce_loss: 5.9231\n",
      "│   ├── ctc_loss: 6.6972\n",
      "│   ├── joint_loss: 7.9322\n",
      "│   ├── perplexity_char: 4.0462\n",
      "│   └── perplexity_token: 373.5678\n",
      "└── VAL:\n",
      "    ├── cer: 72.1760\n",
      "    ├── wer: 110.1908\n",
      "    └── word_dist: 77.0477\n",
      "└── TRAINING:\n",
      "    └── learning_rate: 0.000184\n",
      "Saving best model!\n"
     ]
    },
    {
     "name": "stderr",
     "output_type": "stream",
     "text": [
      "                                                                                                                                                          \r"
     ]
    },
    {
     "name": "stdout",
     "output_type": "stream",
     "text": [
      "\n",
      "📊 Metrics (Epoch 2):\n",
      "├── TRAIN:\n",
      "│   ├── ce_loss: 5.5998\n",
      "│   ├── ctc_loss: 5.9455\n",
      "│   ├── joint_loss: 7.3835\n",
      "│   ├── perplexity_char: 3.7490\n",
      "│   └── perplexity_token: 270.3815\n",
      "└── VAL:\n",
      "    ├── cer: 78.9777\n",
      "    ├── wer: 120.7768\n",
      "    └── word_dist: 84.3023\n",
      "└── TRAINING:\n",
      "    └── learning_rate: 0.000256\n"
     ]
    },
    {
     "name": "stderr",
     "output_type": "stream",
     "text": [
      "                                                                                                                                                          \r"
     ]
    },
    {
     "name": "stdout",
     "output_type": "stream",
     "text": [
      "\n",
      "📊 Metrics (Epoch 3):\n",
      "├── TRAIN:\n",
      "│   ├── ce_loss: 5.2787\n",
      "│   ├── ctc_loss: 4.9156\n",
      "│   ├── joint_loss: 6.7533\n",
      "│   ├── perplexity_char: 3.4753\n",
      "│   └── perplexity_token: 196.1061\n",
      "└── VAL:\n",
      "    ├── cer: 70.9086\n",
      "    ├── wer: 103.8767\n",
      "    └── word_dist: 75.7022\n",
      "└── TRAINING:\n",
      "    └── learning_rate: 0.000328\n",
      "Saving best model!\n"
     ]
    },
    {
     "name": "stderr",
     "output_type": "stream",
     "text": [
      "                                                                                                                                                          \r"
     ]
    },
    {
     "name": "stdout",
     "output_type": "stream",
     "text": [
      "\n",
      "📊 Metrics (Epoch 4):\n",
      "├── TRAIN:\n",
      "│   ├── ce_loss: 4.6153\n",
      "│   ├── ctc_loss: 4.3212\n",
      "│   ├── joint_loss: 5.9117\n",
      "│   ├── perplexity_char: 2.9718\n",
      "│   └── perplexity_token: 101.0200\n",
      "└── VAL:\n",
      "    ├── cer: 59.7939\n",
      "    ├── wer: 82.9914\n",
      "    └── word_dist: 64.0067\n",
      "└── TRAINING:\n",
      "    └── learning_rate: 0.000400\n",
      "Saving best model!\n"
     ]
    },
    {
     "name": "stderr",
     "output_type": "stream",
     "text": [
      "                                                                                                                                                         \r"
     ]
    },
    {
     "name": "stdout",
     "output_type": "stream",
     "text": [
      "\n",
      "📊 Metrics (Epoch 5):\n",
      "├── TRAIN:\n",
      "│   ├── ce_loss: 3.4401\n",
      "│   ├── ctc_loss: 3.4945\n",
      "│   ├── joint_loss: 4.4884\n",
      "│   ├── perplexity_char: 2.2520\n",
      "│   └── perplexity_token: 31.1888\n",
      "└── VAL:\n",
      "    ├── cer: 36.8593\n",
      "    ├── wer: 54.8491\n",
      "    └── word_dist: 40.1169\n",
      "└── TRAINING:\n",
      "    └── learning_rate: 0.000362\n",
      "Saving best model!\n"
     ]
    },
    {
     "name": "stderr",
     "output_type": "stream",
     "text": [
      "                                                                                                                                                         \r"
     ]
    },
    {
     "name": "stdout",
     "output_type": "stream",
     "text": [
      "\n",
      "📊 Metrics (Epoch 6):\n",
      "├── TRAIN:\n",
      "│   ├── ce_loss: 2.4532\n",
      "│   ├── ctc_loss: 2.7530\n",
      "│   ├── joint_loss: 3.2791\n",
      "│   ├── perplexity_char: 1.7841\n",
      "│   └── perplexity_token: 11.6252\n",
      "└── VAL:\n",
      "    ├── cer: 23.3571\n",
      "    ├── wer: 37.0189\n",
      "    └── word_dist: 26.2120\n",
      "└── TRAINING:\n",
      "    └── learning_rate: 0.000262\n",
      "Saving best model!\n"
     ]
    },
    {
     "name": "stderr",
     "output_type": "stream",
     "text": [
      "                                                                                                                                                        \r"
     ]
    },
    {
     "name": "stdout",
     "output_type": "stream",
     "text": [
      "\n",
      "📊 Metrics (Epoch 7):\n",
      "├── TRAIN:\n",
      "│   ├── ce_loss: 2.0237\n",
      "│   ├── ctc_loss: 2.2685\n",
      "│   ├── joint_loss: 2.7043\n",
      "│   ├── perplexity_char: 1.6122\n",
      "│   └── perplexity_token: 7.5666\n",
      "└── VAL:\n",
      "    ├── cer: 17.6592\n",
      "    ├── wer: 29.9824\n",
      "    └── word_dist: 20.4658\n",
      "└── TRAINING:\n",
      "    └── learning_rate: 0.000138\n",
      "Saving best model!\n"
     ]
    },
    {
     "name": "stderr",
     "output_type": "stream",
     "text": [
      "                                                                                                                                                        \r"
     ]
    },
    {
     "name": "stdout",
     "output_type": "stream",
     "text": [
      "\n",
      "📊 Metrics (Epoch 8):\n",
      "├── TRAIN:\n",
      "│   ├── ce_loss: 1.7964\n",
      "│   ├── ctc_loss: 1.9734\n",
      "│   ├── joint_loss: 2.3884\n",
      "│   ├── perplexity_char: 1.5279\n",
      "│   └── perplexity_token: 6.0277\n",
      "└── VAL:\n",
      "    ├── cer: 16.1439\n",
      "    ├── wer: 27.8519\n",
      "    └── word_dist: 18.8949\n",
      "└── TRAINING:\n",
      "    └── learning_rate: 0.000038\n",
      "Saving best model!\n"
     ]
    },
    {
     "name": "stderr",
     "output_type": "stream",
     "text": [
      "                                                                                                                                                        \r"
     ]
    },
    {
     "name": "stdout",
     "output_type": "stream",
     "text": [
      "\n",
      "📊 Metrics (Epoch 9):\n",
      "├── TRAIN:\n",
      "│   ├── ce_loss: 1.6922\n",
      "│   ├── ctc_loss: 1.8348\n",
      "│   ├── joint_loss: 2.2426\n",
      "│   ├── perplexity_char: 1.4908\n",
      "│   └── perplexity_token: 5.4314\n",
      "└── VAL:\n",
      "    ├── cer: 15.8541\n",
      "    ├── wer: 27.2251\n",
      "    └── word_dist: 18.5786\n",
      "└── TRAINING:\n",
      "    └── learning_rate: 0.000400\n",
      "Saving best model!\n"
     ]
    },
    {
     "name": "stderr",
     "output_type": "stream",
     "text": [
      "[Training ASR]:  83%|████████▎ | 1482/1784 [07:58<01:34,  3.20it/s, acc_step=1/1, ce_loss=2.1760, ctc_loss=2.1833, joint_loss=2.8310, perplexity=8.8109]IOPub message rate exceeded.\n",
      "The Jupyter server will temporarily stop sending output\n",
      "to the client in order to avoid crashing it.\n",
      "To change this limit, set the config variable\n",
      "`--ServerApp.iopub_msg_rate_limit`.\n",
      "\n",
      "Current values:\n",
      "ServerApp.iopub_msg_rate_limit=1000.0 (msgs/sec)\n",
      "ServerApp.rate_limit_window=3.0 (secs)\n",
      "\n",
      "                                                                             \r"
     ]
    },
    {
     "name": "stdout",
     "output_type": "stream",
     "text": [
      "\n",
      "📊 Metrics (Epoch 15):\n",
      "├── TRAIN:\n",
      "│   ├── ce_loss: 1.6461\n",
      "│   ├── ctc_loss: 1.3498\n",
      "│   ├── joint_loss: 2.0510\n",
      "│   ├── perplexity_char: 1.4747\n",
      "│   └── perplexity_token: 5.1865\n",
      "└── VAL:\n",
      "    ├── cer: 14.0874\n",
      "    ├── wer: 24.2491\n",
      "    └── word_dist: 17.0078\n",
      "└── TRAINING:\n",
      "    └── learning_rate: 0.000394\n"
     ]
    },
    {
     "name": "stderr",
     "output_type": "stream",
     "text": [
      "                                                                                                                                                        \r"
     ]
    },
    {
     "name": "stdout",
     "output_type": "stream",
     "text": [
      "\n",
      "📊 Metrics (Epoch 16):\n",
      "├── TRAIN:\n",
      "│   ├── ce_loss: 1.6119\n",
      "│   ├── ctc_loss: 1.2736\n",
      "│   ├── joint_loss: 1.9940\n",
      "│   ├── perplexity_char: 1.4629\n",
      "│   └── perplexity_token: 5.0125\n",
      "└── VAL:\n",
      "    ├── cer: 13.5213\n",
      "    ├── wer: 23.8135\n",
      "    └── word_dist: 16.2808\n",
      "└── TRAINING:\n",
      "    └── learning_rate: 0.000391\n",
      "Saving best model!\n"
     ]
    },
    {
     "name": "stderr",
     "output_type": "stream",
     "text": [
      "                                                                                                                                                        \r"
     ]
    },
    {
     "name": "stdout",
     "output_type": "stream",
     "text": [
      "\n",
      "📊 Metrics (Epoch 17):\n",
      "├── TRAIN:\n",
      "│   ├── ce_loss: 1.5804\n",
      "│   ├── ctc_loss: 1.1896\n",
      "│   ├── joint_loss: 1.9372\n",
      "│   ├── perplexity_char: 1.4520\n",
      "│   └── perplexity_token: 4.8567\n",
      "└── VAL:\n",
      "    ├── cer: 12.5003\n",
      "    ├── wer: 22.7933\n",
      "    └── word_dist: 15.1054\n",
      "└── TRAINING:\n",
      "    └── learning_rate: 0.000389\n",
      "Saving best model!\n"
     ]
    },
    {
     "name": "stderr",
     "output_type": "stream",
     "text": [
      "                                                                                                                                                        \r"
     ]
    },
    {
     "name": "stdout",
     "output_type": "stream",
     "text": [
      "\n",
      "📊 Metrics (Epoch 18):\n",
      "├── TRAIN:\n",
      "│   ├── ce_loss: 1.5631\n",
      "│   ├── ctc_loss: 1.1376\n",
      "│   ├── joint_loss: 1.9044\n",
      "│   ├── perplexity_char: 1.4461\n",
      "│   └── perplexity_token: 4.7737\n",
      "└── VAL:\n",
      "    ├── cer: 12.8696\n",
      "    ├── wer: 22.7510\n",
      "    └── word_dist: 15.5046\n",
      "└── TRAINING:\n",
      "    └── learning_rate: 0.000386\n"
     ]
    },
    {
     "name": "stderr",
     "output_type": "stream",
     "text": [
      "                                                                                                                                                        \r"
     ]
    },
    {
     "name": "stdout",
     "output_type": "stream",
     "text": [
      "\n",
      "📊 Metrics (Epoch 19):\n",
      "├── TRAIN:\n",
      "│   ├── ce_loss: 1.5415\n",
      "│   ├── ctc_loss: 1.0687\n",
      "│   ├── joint_loss: 1.8621\n",
      "│   ├── perplexity_char: 1.4388\n",
      "│   └── perplexity_token: 4.6717\n",
      "└── VAL:\n",
      "    ├── cer: 11.8285\n",
      "    ├── wer: 21.1500\n",
      "    └── word_dist: 14.2667\n",
      "└── TRAINING:\n",
      "    └── learning_rate: 0.000383\n",
      "Saving best model!\n"
     ]
    },
    {
     "name": "stderr",
     "output_type": "stream",
     "text": [
      "                                                                                                                                                        \r"
     ]
    },
    {
     "name": "stdout",
     "output_type": "stream",
     "text": [
      "\n",
      "📊 Metrics (Epoch 20):\n",
      "├── TRAIN:\n",
      "│   ├── ce_loss: 1.5257\n",
      "│   ├── ctc_loss: 1.0276\n",
      "│   ├── joint_loss: 1.8340\n",
      "│   ├── perplexity_char: 1.4334\n",
      "│   └── perplexity_token: 4.5983\n",
      "└── VAL:\n",
      "    ├── cer: 12.0483\n",
      "    ├── wer: 21.6205\n",
      "    └── word_dist: 14.9049\n",
      "└── TRAINING:\n",
      "    └── learning_rate: 0.000379\n"
     ]
    },
    {
     "name": "stderr",
     "output_type": "stream",
     "text": [
      "                                                                                                                                                        \r"
     ]
    },
    {
     "name": "stdout",
     "output_type": "stream",
     "text": [
      "\n",
      "📊 Metrics (Epoch 21):\n",
      "├── TRAIN:\n",
      "│   ├── ce_loss: 1.5047\n",
      "│   ├── ctc_loss: 0.9757\n",
      "│   ├── joint_loss: 1.7974\n",
      "│   ├── perplexity_char: 1.4263\n",
      "│   └── perplexity_token: 4.5029\n",
      "└── VAL:\n",
      "    ├── cer: 12.1734\n",
      "    ├── wer: 21.8411\n",
      "    └── word_dist: 14.8165\n",
      "└── TRAINING:\n",
      "    └── learning_rate: 0.000375\n"
     ]
    },
    {
     "name": "stderr",
     "output_type": "stream",
     "text": [
      "                                                                                                                                                        \r"
     ]
    },
    {
     "name": "stdout",
     "output_type": "stream",
     "text": [
      "\n",
      "📊 Metrics (Epoch 22):\n",
      "├── TRAIN:\n",
      "│   ├── ce_loss: 1.4940\n",
      "│   ├── ctc_loss: 0.9353\n",
      "│   ├── joint_loss: 1.7746\n",
      "│   ├── perplexity_char: 1.4227\n",
      "│   └── perplexity_token: 4.4550\n",
      "└── VAL:\n",
      "    ├── cer: 11.5557\n",
      "    ├── wer: 20.7639\n",
      "    └── word_dist: 14.1310\n",
      "└── TRAINING:\n",
      "    └── learning_rate: 0.000371\n",
      "Saving best model!\n"
     ]
    },
    {
     "name": "stderr",
     "output_type": "stream",
     "text": [
      "                                                                                                                                                        \r"
     ]
    },
    {
     "name": "stdout",
     "output_type": "stream",
     "text": [
      "\n",
      "📊 Metrics (Epoch 23):\n",
      "├── TRAIN:\n",
      "│   ├── ce_loss: 1.4860\n",
      "│   ├── ctc_loss: 0.9172\n",
      "│   ├── joint_loss: 1.7612\n",
      "│   ├── perplexity_char: 1.4200\n",
      "│   └── perplexity_token: 4.4193\n",
      "└── VAL:\n",
      "    ├── cer: 11.1809\n",
      "    ├── wer: 20.1684\n",
      "    └── word_dist: 13.9430\n",
      "└── TRAINING:\n",
      "    └── learning_rate: 0.000367\n",
      "Saving best model!\n"
     ]
    },
    {
     "name": "stderr",
     "output_type": "stream",
     "text": [
      "[Recognizing ASR] : greedy:   0%|          | 0/169 [00:00<?, ?it/s]                                                                                     "
     ]
    }
   ],
   "source": [
    "trainer.train(train_loader, val_loader, epochs=50)"
   ]
  },
  {
   "cell_type": "markdown",
   "metadata": {
    "id": "m9o7QclnXWX2"
   },
   "source": [
    "#### Inference\n"
   ]
  },
  {
   "cell_type": "code",
   "execution_count": null,
   "metadata": {},
   "outputs": [],
   "source": [
    "📊  Metrics (Epoch 59):\n",
    "├── TRAIN:\n",
    "│   ├── ce_loss: 0.0461\n",
    "│   ├── ctc_loss: 0.1982\n",
    "│   ├── joint_loss: 0.1055\n",
    "│   ├── perplexity_char: 1.0109\n",
    "│   └── perplexity_token: 1.0472\n",
    "└── VAL:\n",
    "    ├── cer: 11.7661\n",
    "    ├── wer: 20.4717\n",
    "    └── word_dist: 14.5128\n",
    "└── TRAINING:\n",
    "    └── learning_rate: 0.000400"
   ]
  },
  {
   "cell_type": "code",
   "execution_count": 38,
   "metadata": {
    "id": "bmtZ3E46N0Kt"
   },
   "outputs": [
    {
     "name": "stdout",
     "output_type": "stream",
     "text": [
      "Evaluating with test config\n"
     ]
    },
    {
     "name": "stderr",
     "output_type": "stream",
     "text": [
      "                                                                           \r"
     ]
    }
   ],
   "source": [
    "# Define the recognition config: Greedy search\n",
    "recognition_config = {\n",
    "                'num_batches': None,\n",
    "                'beam_width': 4,\n",
    "                'temperature': 1.0,\n",
    "                'repeat_penalty': 1.0,\n",
    "                'lm_weight': 0.0,\n",
    "                'lm_model': None\n",
    "            }\n",
    "\n",
    "# Recognize with the shallow fusion config\n",
    "config_name = \"test\"\n",
    "print(f\"Evaluating with {config_name} config\")\n",
    "results = trainer.recognize(test_loader, recognition_config, config_name=config_name, max_length=max_transcript_len)\n",
    "\n",
    "\n",
    "# Calculate metrics on full batch\n",
    "generated = [r['generated'] for r in results]\n",
    "results_df = pd.DataFrame(\n",
    "    {\n",
    "        'id': range(len(generated)),\n",
    "        'transcription': generated\n",
    "    }\n",
    ")\n",
    "\n",
    "# Cleanup (Will end wandb run)\n",
    "trainer.cleanup()"
   ]
  },
  {
   "cell_type": "markdown",
   "metadata": {
    "id": "Srfle5jUeGYA"
   },
   "source": [
    "## Submit to Kaggle"
   ]
  },
  {
   "cell_type": "markdown",
   "metadata": {},
   "source": [
    "### Authenticate Kaggle\n",
    "In order to use the Kaggle’s public API, you must first authenticate using an API token. Go to the 'Account' tab of your user profile and select 'Create New Token'. This will trigger the download of kaggle.json, a file containing your API credentials.\n",
    "- `TODO`: Set your kaggle username and api key here based on the API credentials listed in the kaggle.json\n",
    "\n",
    "\n"
   ]
  },
  {
   "cell_type": "code",
   "execution_count": 19,
   "metadata": {},
   "outputs": [],
   "source": [
    "# import os\n",
    "# os.environ[\"KAGGLE_USERNAME\"] = \"your_kaggle_username_here\"\n",
    "# os.environ[\"KAGGLE_KEY\"] = \"your_kaggle_api_key_here\""
   ]
  },
  {
   "cell_type": "code",
   "execution_count": 39,
   "metadata": {},
   "outputs": [
    {
     "data": {
      "text/html": [
       "<div>\n",
       "<style scoped>\n",
       "    .dataframe tbody tr th:only-of-type {\n",
       "        vertical-align: middle;\n",
       "    }\n",
       "\n",
       "    .dataframe tbody tr th {\n",
       "        vertical-align: top;\n",
       "    }\n",
       "\n",
       "    .dataframe thead th {\n",
       "        text-align: right;\n",
       "    }\n",
       "</style>\n",
       "<table border=\"1\" class=\"dataframe\">\n",
       "  <thead>\n",
       "    <tr style=\"text-align: right;\">\n",
       "      <th></th>\n",
       "      <th>id</th>\n",
       "      <th>transcription</th>\n",
       "    </tr>\n",
       "  </thead>\n",
       "  <tbody>\n",
       "    <tr>\n",
       "      <th>0</th>\n",
       "      <td>0</td>\n",
       "      <td>HE HOPED THERE WOULD BE STEAL FOR DINNER TURNI...</td>\n",
       "    </tr>\n",
       "    <tr>\n",
       "      <th>1</th>\n",
       "      <td>1</td>\n",
       "      <td>STUFFED INTO YOU HIS BELLY COUNSELLED HIM</td>\n",
       "    </tr>\n",
       "    <tr>\n",
       "      <th>2</th>\n",
       "      <td>2</td>\n",
       "      <td>AFTER EARLY NIGHTFALL THE YELLOW LAMPS WOULD L...</td>\n",
       "    </tr>\n",
       "    <tr>\n",
       "      <th>3</th>\n",
       "      <td>3</td>\n",
       "      <td>OH BARTE AND HE GOOD IN YOUR MIND</td>\n",
       "    </tr>\n",
       "    <tr>\n",
       "      <th>4</th>\n",
       "      <td>4</td>\n",
       "      <td>NAME BERNARD THEN FRESH NELLIE IS WAITING ON Y...</td>\n",
       "    </tr>\n",
       "  </tbody>\n",
       "</table>\n",
       "</div>"
      ],
      "text/plain": [
       "   id                                      transcription\n",
       "0   0  HE HOPED THERE WOULD BE STEAL FOR DINNER TURNI...\n",
       "1   1          STUFFED INTO YOU HIS BELLY COUNSELLED HIM\n",
       "2   2  AFTER EARLY NIGHTFALL THE YELLOW LAMPS WOULD L...\n",
       "3   3                  OH BARTE AND HE GOOD IN YOUR MIND\n",
       "4   4  NAME BERNARD THEN FRESH NELLIE IS WAITING ON Y..."
      ]
     },
     "execution_count": 39,
     "metadata": {},
     "output_type": "execute_result"
    }
   ],
   "source": [
    "results_df.head()"
   ]
  },
  {
   "cell_type": "markdown",
   "metadata": {},
   "source": [
    "### Submit"
   ]
  },
  {
   "cell_type": "code",
   "execution_count": 40,
   "metadata": {
    "id": "jFRZqdazOfZt"
   },
   "outputs": [],
   "source": [
    "results_df.to_csv(\"submit_21Apr_6_B4.csv\",index=False)"
   ]
  },
  {
   "cell_type": "code",
   "execution_count": null,
   "metadata": {},
   "outputs": [],
   "source": [
    "import os\n",
    "import zipfile\n",
    "\n",
    "items_to_include = ['hw4lib', 'HW4P2_new.ipynb', 'mytorch']  # Update with your actual subset\n",
    "zip_filename = 'Final_submission.zip'\n",
    "\n",
    "with zipfile.ZipFile(zip_filename, 'w', zipfile.ZIP_DEFLATED) as zipf:\n",
    "    for item in items_to_include:\n",
    "        if os.path.isdir(item):\n",
    "            for root, dirs, files in os.walk(item):\n",
    "                for file in files:\n",
    "                    file_path = os.path.join(root, file)\n",
    "                    zipf.write(file_path, arcname=os.path.relpath(file_path))\n",
    "        elif os.path.isfile(item):\n",
    "            zipf.write(item, arcname=item)\n",
    "\n",
    "print(f'Created zip: {zip_filename}')"
   ]
  }
 ],
 "metadata": {
  "accelerator": "GPU",
  "colab": {
   "collapsed_sections": [
    "T1K8ZJzQXWXm",
    "dqzcpqG0XWXp",
    "uP0Aucc7XWXs",
    "k5ey-Nd0XWXx"
   ],
   "gpuType": "A100",
   "machine_shape": "hm",
   "provenance": []
  },
  "kernelspec": {
   "display_name": "Python 3 (ipykernel)",
   "language": "python",
   "name": "python3"
  },
  "language_info": {
   "codemirror_mode": {
    "name": "ipython",
    "version": 3
   },
   "file_extension": ".py",
   "mimetype": "text/x-python",
   "name": "python",
   "nbconvert_exporter": "python",
   "pygments_lexer": "ipython3",
   "version": "3.9.5"
  }
 },
 "nbformat": 4,
 "nbformat_minor": 4
}
